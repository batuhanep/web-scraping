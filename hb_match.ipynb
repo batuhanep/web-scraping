{
 "cells": [
  {
   "cell_type": "code",
   "execution_count": null,
   "id": "1d158bf7",
   "metadata": {},
   "outputs": [
    {
     "name": "stdout",
     "output_type": "stream",
     "text": [
      "Ürün bulunamadı veya hata oluştu: Gliss Split Hair Miracle Şampuan 400 ml\n",
      "Ürün bulunamadı veya hata oluştu: Gliss Serum Deep Repair Şampuan 400 ml\n",
      "Ürün bulunamadı veya hata oluştu: Gliss Nutribalance Repair Sıvı Saç Bakım Kremi 200 ml\n",
      "Ürün bulunamadı veya hata oluştu: Gliss Supreme Length Sıvı Saç Kremi 200 ml\n",
      "Ürün bulunamadı veya hata oluştu: Gliss Serum Deep Repair Saç Kremi 360 ml\n",
      "Ürün bulunamadı veya hata oluştu: Gliss Serum Deep Repair Şampuan 400 ml\n",
      "Ürün bulunamadı veya hata oluştu: Gliss Supreme Length Şampuan 400 ml\n",
      "Ürün bulunamadı veya hata oluştu: Gliss Nutribalance Repair Şampuan 400 ml\n",
      "Ürün bulunamadı veya hata oluştu: Gliss Ultimate Repair Şampuan 400 ml\n",
      "Ürün bulunamadı veya hata oluştu: Gliss Supreme Length Saç Kremi 360 ml\n",
      "Ürün bulunamadı veya hata oluştu: Gliss Night Elixir Yeniden Yapılandırıcı Gece Saç Bakım Serumu 100 ml\n",
      "Ürün bulunamadı veya hata oluştu: Gliss Night Elixir Nemlendirici Gece Saç Bakım Serumu 100 ml\n",
      "Ürün bulunamadı veya hata oluştu: Gliss Aqua Revive Nemlendirici Şampuan - Hyaluron ve Deniz Yosunu Özü ile 500 ml\n",
      "Ürün bulunamadı veya hata oluştu: Gliss Aqua Revive Nemlendirici Saç Bakım Kremi - Hyaluron ve Deniz Yosunu Özü ile 360 ml\n",
      "Ürün bulunamadı veya hata oluştu: Gliss Aqua Revive Nemlendirici Sıvı Saç Bakım Kremi - Hyaluron ve Deniz Yosunu Özü ile 200 ml\n",
      "Ürün bulunamadı veya hata oluştu: Gliss Serum Deep Repair Onarıcı Sıvı Saç Bakım Kremi - Protein Kompleksi ve Hint İnciri ile 200 ml\n",
      "Ürün bulunamadı veya hata oluştu: Gliss Aqua Revive 4'ü 1 Arada Nemlendirici & Yeniden Yapılandırıcı Bakım Maskesi 400 ml\n",
      "Ürün bulunamadı veya hata oluştu: Gliss Blonde Perfector Turunculaşma Karşıtı Mor Şampuan 250 ml\n",
      "Ürün bulunamadı veya hata oluştu: Gliss Ultimate Repair Sıvı Saç Bakım Kremi 200 ml\n",
      "Ürün bulunamadı veya hata oluştu: Gliss Nutribalance Repair Sıvı Saç Bakım Kremi 200 ml\n",
      "Ürün bulunamadı veya hata oluştu: Gliss Ultimate Repair 4’ü 1 Arada Onarıcı & Yeniden Yapılandırıcı Bakım Maskesi 400 ml\n",
      "Ürün bulunamadı veya hata oluştu: Gliss Split Hair Miracle Kırık Uçları Mühürleyen Saç Bakım Kremi - İyonik Kompleks ve Üzüm Çekirdeği Yağı ile 360 ml\n",
      "Ürün bulunamadı veya hata oluştu: Gliss Split Hair Miracle Şampuan 400 ml\n",
      "Ürün bulunamadı veya hata oluştu: Gliss Serum Deep Repair Şampuan 500 ml\n",
      "Ürün bulunamadı veya hata oluştu: Gliss Split Hair Miracle Şampuan 400 ml\n",
      "Ürün bulunamadı veya hata oluştu: Gliss Ultimate Repair Şampuan 400 ml\n",
      "Ürün bulunamadı veya hata oluştu: Gliss Intense Therapy Saç Kremi 360 ml\n"
     ]
    }
   ],
   "source": [
    "import pandas as pd\n",
    "from selenium import webdriver\n",
    "from selenium.webdriver.common.by import By\n",
    "from selenium.webdriver.chrome.service import Service\n",
    "import time\n",
    "from webdriver_manager.chrome import ChromeDriverManager\n",
    "import urllib.parse\n",
    "\n",
    "# Excel dosyasını yükleyelim\n",
    "\n",
    "df = pd.read_excel(\"hb_match.xlsx\")\n",
    "\n",
    "# ChromeDriver kurulumunu başlatalım\n",
    "service = Service(ChromeDriverManager().install())\n",
    "driver = webdriver.Chrome(service=service)\n",
    "\n",
    "# Ürün bağlantılarını saklayacak yeni bir sütun oluşturalım\n",
    "df[\"Trendyol_Link\"] = None\n",
    "\n",
    "# Her bir başlık için arama yapacağız\n",
    "for index, row in df.iterrows():\n",
    "    product_title = row['Ürün İsmi']\n",
    "    \n",
    "    # Arama URL'sini oluştur\n",
    "    search_url = f\"https://www.hepsiburada.com/ara?q={urllib.parse.quote(product_title)}\"\n",
    "    driver.get(search_url)\n",
    "    \n",
    "    # Sayfanın yüklenmesi için kısa bir bekleme\n",
    "    time.sleep(3)\n",
    "    \n",
    "    try:\n",
    "        # İlk sonucu bul ve bağlantıyı al\n",
    "        first_result = driver.find_element(By.CSS_SELECTOR, \".prdct-cntnr-wrppr .p-card-wrppr a\")\n",
    "        product_link = first_result.get_attribute(\"href\")\n",
    "        df.at[index, \"Trendyol_Link\"] = product_link  # Linki DataFrame'e ekleyelim\n",
    "    except Exception as e:\n",
    "        print(f\"Ürün bulunamadı veya hata oluştu: {product_title}\")\n",
    "        df.at[index, \"Trendyol_Link\"] = \"Link bulunamadı\"\n",
    "    \n",
    "    # Bir süre bekleyerek çok hızlı istek yapılmasını engelleyelim\n",
    "    time.sleep(1)\n",
    "\n",
    "# Tarayıcıyı kapatalım\n",
    "driver.quit()\n",
    "\n",
    "# Sonucu yeni dosyaya kaydedelim\n",
    "output_file_path = \"hb_match_final.xlsx\"  # Kayıt yeri olarak betiğin olduğu dizini kullanır\n",
    "df.to_excel(output_file_path, index=False)\n",
    "\n",
    "print(f\"Tamamlandı! Dosya kaydedildi: {output_file_path}\")"
   ]
  },
  {
   "cell_type": "code",
   "execution_count": null,
   "id": "61671d27",
   "metadata": {},
   "outputs": [],
   "source": []
  }
 ],
 "metadata": {
  "kernelspec": {
   "display_name": "Python 3 (ipykernel)",
   "language": "python",
   "name": "python3"
  },
  "language_info": {
   "codemirror_mode": {
    "name": "ipython",
    "version": 3
   },
   "file_extension": ".py",
   "mimetype": "text/x-python",
   "name": "python",
   "nbconvert_exporter": "python",
   "pygments_lexer": "ipython3",
   "version": "3.11.5"
  }
 },
 "nbformat": 4,
 "nbformat_minor": 5
}
